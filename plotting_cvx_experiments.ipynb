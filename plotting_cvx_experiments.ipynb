{
 "cells": [
  {
   "cell_type": "code",
   "execution_count": null,
   "metadata": {},
   "outputs": [],
   "source": [
    "import os\n",
    "import torch\n",
    "import matplotlib.pyplot as plt\n",
    "import numpy as np\n",
    "\n",
    "%config InlineBackend.figure_formats = ['svg']\n",
    "\n",
    "import matplotlib.pyplot as plt\n",
    "%matplotlib inline\n",
    "\n",
    "import matplotlib\n",
    "\n",
    "plt.rc('text', usetex=False)\n",
    "plt.rc('font', family='serif')\n",
    "\n",
    "#plt.rc('text.latex', preamble=r'\\usepackage{amsmath,bm,xfrac,mathrsfs}')\n",
    "\n",
    "matplotlib.rcParams.update({'font.size': 16})"
   ]
  },
  {
   "cell_type": "code",
   "execution_count": null,
   "metadata": {},
   "outputs": [],
   "source": [
    "act_cols_K_7 = np.load('./results/brute_cvx_group_lasso/D_2_N_3_K_7_iters_1000/act_cols_arr.npy')\n",
    "act_cols_K_8 = np.load('./results/brute_cvx_group_lasso/D_2_N_3_K_8_iters_1000/act_cols_arr.npy')\n",
    "act_cols_K_9 = np.load('./results/brute_cvx_group_lasso/D_2_N_3_K_9_iters_1000/act_cols_arr.npy')\n",
    "act_cols_K_10 = np.load('./results/brute_cvx_group_lasso/D_2_N_3_K_10_iters_1000/act_cols_arr.npy')\n",
    "act_cols_K_11 = np.load('./results/brute_cvx_group_lasso/D_2_N_3_K_11_iters_1000/act_cols_arr.npy')"
   ]
  },
  {
   "cell_type": "code",
   "execution_count": null,
   "metadata": {},
   "outputs": [],
   "source": [
    "fig, ax = plt.subplots(1, 5, sharey=True, tight_layout=True, figsize=(20,5))\n",
    "\n",
    "_,bins,_=ax[0].hist(act_cols_K_7, alpha=0.5, bins=np.arange(3,10), edgecolor='black')\n",
    "ax[0].set_title('D=2, N=3, K=7')\n",
    "ax[0].set_xticks(np.arange(3,10))\n",
    "#ax[0].set_ylabel('Frequency')\n",
    "ax[0].vlines(3, 0, 500, color='red')\n",
    "ax[0].vlines(7, 0, 500, color='red')\n",
    "ax[0].set_xlabel('Number of nonzero columns')\n",
    "\n",
    "_,bins,_=ax[1].hist(act_cols_K_8, alpha=0.5, bins=np.arange(3,10), edgecolor='black')\n",
    "ax[1].set_title('D=2, N=3, K=8')\n",
    "ax[1].set_xticks(np.arange(3,10))\n",
    "ax[1].vlines(3, 0, 500, color='red')\n",
    "ax[1].vlines(7, 0, 500, color='red')\n",
    "ax[1].set_xlabel('Number of nonzero columns')\n",
    "\n",
    "\n",
    "_,bins,_=ax[2].hist(act_cols_K_9, alpha=0.5,bins=np.arange(3,10),edgecolor='black')\n",
    "ax[2].set_title('D=2, N=3, K=9')\n",
    "ax[2].set_xticks(np.arange(3,10))\n",
    "ax[2].vlines(3, 0, 500, color='red')\n",
    "ax[2].vlines(7, 0, 500, color='red')\n",
    "ax[2].set_xlabel('Number of nonzero columns')\n",
    "\n",
    "\n",
    "_,bins,_=ax[3].hist(act_cols_K_10, alpha=0.5, bins=np.arange(3,10),edgecolor='black')\n",
    "ax[3].set_title('D=2, N=3, K=10')\n",
    "ax[3].set_xticks(np.arange(3,10))\n",
    "ax[3].vlines(3, 0, 500, color='red')\n",
    "ax[3].vlines(7, 0, 500, color='red')\n",
    "ax[3].set_xlabel('Number of nonzero columns')\n",
    "\n",
    "\n",
    "_,bins,_=ax[4].hist(act_cols_K_11, alpha=0.5, bins=np.arange(3,10),edgecolor='black')\n",
    "ax[4].set_title('D=2, N=3, K=11')\n",
    "ax[4].set_xticks(np.arange(3,10))\n",
    "ax[4].vlines(3, 0, 500, color='red')\n",
    "ax[4].vlines(7, 0, 500, color='red')\n",
    "ax[4].set_xlabel('Number of nonzero columns')\n",
    "\n",
    "#fig.suptitle('Distribution of Active Columns For Sparsest Solution', fontsize=20)\n",
    "#plt.savefig('./figs/exhaustive_dimension_group_lasso.pdf', dpi=300)\n",
    "plt.tight_layout()\n",
    "plt.show()"
   ]
  }
 ],
 "metadata": {
  "language_info": {
   "name": "python"
  },
  "orig_nbformat": 4
 },
 "nbformat": 4,
 "nbformat_minor": 2
}
